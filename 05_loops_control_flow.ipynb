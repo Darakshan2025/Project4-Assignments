{
  "nbformat": 4,
  "nbformat_minor": 0,
  "metadata": {
    "colab": {
      "provenance": [],
      "authorship_tag": "ABX9TyNCG0aYTPiKbgCBuIQls1U1",
      "include_colab_link": true
    },
    "kernelspec": {
      "name": "python3",
      "display_name": "Python 3"
    },
    "language_info": {
      "name": "python"
    }
  },
  "cells": [
    {
      "cell_type": "markdown",
      "metadata": {
        "id": "view-in-github",
        "colab_type": "text"
      },
      "source": [
        "<a href=\"https://colab.research.google.com/github/Darakshan2025/Project4-Assignments/blob/main/05_loops_control_flow.ipynb\" target=\"_parent\"><img src=\"https://colab.research.google.com/assets/colab-badge.svg\" alt=\"Open In Colab\"/></a>"
      ]
    },
    {
      "cell_type": "code",
      "execution_count": null,
      "metadata": {
        "colab": {
          "base_uri": "https://localhost:8080/"
        },
        "id": "Q_Zwpyp89Uhm",
        "outputId": "9a2ec1c4-b469-42f2-eb16-46f50b363390"
      },
      "outputs": [
        {
          "output_type": "stream",
          "name": "stdout",
          "text": [
            "00_guess_my_number\n",
            "I am thinking a number between 1 and 100...\n",
            "Guess a number56\n",
            "your guess is too high\n",
            "Guess again!43\n",
            "your guess is too high\n",
            "Guess again!35\n",
            "your guess is too high\n",
            "Guess again!25\n",
            "your guess is too low\n",
            "Guess again!30\n",
            "your guess is too low\n",
            "Guess again!28\n",
            "your guess is too low\n",
            "Guess again!27\n",
            "your guess is too low\n",
            "Guess again!26\n",
            "your guess is too low\n",
            "Guess again!29\n",
            "your guess is too low\n",
            "Guess again!31\n",
            "your guess is too low\n",
            "Guess again!32\n",
            "your guess is too low\n",
            "Guess again!33\n",
            "your guess is too low\n",
            "Guess again!34\n",
            "✌ Congratulate! The 34 is correct\n"
          ]
        }
      ],
      "source": [
        "import random\n",
        "\n",
        "print(\"00_guess_my_number\")\n",
        "\n",
        "def main():\n",
        "  secret_number = random.randint(1, 100)\n",
        "  print(\"I am thinking a number between 1 and 100...\")\n",
        "\n",
        "  guess = int(input(\"Guess a number\"))\n",
        "\n",
        "  while guess != secret_number:\n",
        "      if guess > secret_number:\n",
        "        print(\"your guess is too high\")\n",
        "      else:\n",
        "        print(\"your guess is too low\")\n",
        "      guess = int(input(\"Guess again!\"))\n",
        "\n",
        "  print(f\"✌ Congratulate! The {secret_number} is correct\")\n",
        "\n",
        "if __name__ == \"__main__\":\n",
        "   main()"
      ]
    },
    {
      "cell_type": "code",
      "source": [
        "print(\"01_fibonacci.\")\n",
        "\n",
        "max_value = 10000\n",
        "\n",
        "def main():\n",
        "  a,b = 0,1\n",
        "  print(a,b, end = \" \")\n",
        "\n",
        "  while True:\n",
        "    c = a+b\n",
        "    if c >= max_value:\n",
        "      break\n",
        "    print(c, end = \" \")\n",
        "    a,b = b,c\n",
        "\n",
        "if __name__ == \"__main__\":\n",
        "  main()"
      ],
      "metadata": {
        "colab": {
          "base_uri": "https://localhost:8080/"
        },
        "id": "lKCtgIl-BXR7",
        "outputId": "6289c232-6dd3-43af-a0f8-82effb50544a"
      },
      "execution_count": null,
      "outputs": [
        {
          "output_type": "stream",
          "name": "stdout",
          "text": [
            "01_fibonacci.\n",
            "0 1 1 2 3 5 8 13 21 34 55 89 144 233 377 610 987 1597 2584 4181 6765 "
          ]
        }
      ]
    },
    {
      "cell_type": "code",
      "source": [
        "print(\"02_print_events\")\n",
        "\n",
        "def main():\n",
        "  for i in range(20):\n",
        "    print(i*2)\n",
        "\n",
        "if __name__ == \"__main__\":\n",
        "  main()"
      ],
      "metadata": {
        "colab": {
          "base_uri": "https://localhost:8080/"
        },
        "id": "pf6XsueCDXeS",
        "outputId": "43efddab-a667-43d6-e16d-4e8c10965b42"
      },
      "execution_count": null,
      "outputs": [
        {
          "output_type": "stream",
          "name": "stdout",
          "text": [
            "02_print_events\n",
            "0\n",
            "2\n",
            "4\n",
            "6\n",
            "8\n",
            "10\n",
            "12\n",
            "14\n",
            "16\n",
            "18\n",
            "20\n",
            "22\n",
            "24\n",
            "26\n",
            "28\n",
            "30\n",
            "32\n",
            "34\n",
            "36\n",
            "38\n"
          ]
        }
      ]
    },
    {
      "cell_type": "code",
      "source": [
        "print(\"03_wholesome_machine\")\n",
        "\n",
        "correct_affermation = \"I am capable of doing anything. I put my mind too.\"\n",
        "\n",
        "def main():\n",
        "  print(\"Welcome to Wholesome Machine\")\n",
        "\n",
        "  while True:\n",
        "    user_input = input(\"Please type the following affermation:\" + correct_affermation)\n",
        "    if user_input == correct_affermation:\n",
        "      print(\"Good work\")\n",
        "      break\n",
        "    else:\n",
        "      print(\"That is not correct. Please try again.\")\n",
        "\n",
        "if __name__ == \"__main__\":\n",
        "  main()"
      ],
      "metadata": {
        "colab": {
          "base_uri": "https://localhost:8080/"
        },
        "id": "rL-J6HfWESut",
        "outputId": "9e865100-e812-4f51-a6fa-ea5d4facae9f"
      },
      "execution_count": null,
      "outputs": [
        {
          "output_type": "stream",
          "name": "stdout",
          "text": [
            "03_wholesome_machine\n",
            "Welcome to Wholesome Machine\n",
            "Please type the following affermation:I am capable of doing anything. I put my mind too.i am acap le to doing anthing.\n",
            "That is not correct. Please try again.\n",
            "Please type the following affermation:I am capable of doing anything. I put my mind too.I am capable of doing anyhing. I put my mind too.\n",
            "That is not correct. Please try again.\n",
            "Please type the following affermation:I am capable of doing anything. I put my mind too.I am capable of doing anything. I put my mind too.\n",
            "Good work\n"
          ]
        }
      ]
    },
    {
      "cell_type": "code",
      "source": [
        "print(\"04_liftoff\")\n",
        "\n",
        "def main():\n",
        "\n",
        "  for i in range(10,0,-1):\n",
        "    print(i,end = \" \")\n",
        "  print(\"Liftoff!\")\n",
        "\n",
        "if __name__ == \"__main__\":\n",
        "  main()\n"
      ],
      "metadata": {
        "colab": {
          "base_uri": "https://localhost:8080/"
        },
        "id": "36s1w9O0GsVd",
        "outputId": "c15009aa-4283-4fda-f575-804580308813"
      },
      "execution_count": null,
      "outputs": [
        {
          "output_type": "stream",
          "name": "stdout",
          "text": [
            "04_liftoff\n",
            "10 9 8 7 6 5 4 3 2 1 Liftoff!\n"
          ]
        }
      ]
    },
    {
      "cell_type": "code",
      "source": [
        "print(\"05_double_it\")\n",
        "\n",
        "def main():\n",
        "  user_value= int(input(\"Please enter a number.\"))\n",
        "  while user_value < 100:\n",
        "    user_value = user_value*2\n",
        "    print(user_value)\n",
        "\n",
        "if __name__ == \"__main__\":\n",
        "  main()\n",
        "\n"
      ],
      "metadata": {
        "id": "mP1uKajoH30G",
        "colab": {
          "base_uri": "https://localhost:8080/"
        },
        "outputId": "c3b7b613-2b68-4a66-a226-674d1efd2fac"
      },
      "execution_count": 3,
      "outputs": [
        {
          "output_type": "stream",
          "name": "stdout",
          "text": [
            "05_double_it\n",
            "Please enter a number.5\n",
            "10\n",
            "20\n",
            "40\n",
            "80\n",
            "160\n"
          ]
        }
      ]
    }
  ]
}