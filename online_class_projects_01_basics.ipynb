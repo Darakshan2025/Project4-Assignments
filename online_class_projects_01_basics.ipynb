{
  "nbformat": 4,
  "nbformat_minor": 0,
  "metadata": {
    "colab": {
      "provenance": [],
      "authorship_tag": "ABX9TyPHLnujpGfMhBMMxtC16pFL",
      "include_colab_link": true
    },
    "kernelspec": {
      "name": "python3",
      "display_name": "Python 3"
    },
    "language_info": {
      "name": "python"
    }
  },
  "cells": [
    {
      "cell_type": "markdown",
      "metadata": {
        "id": "view-in-github",
        "colab_type": "text"
      },
      "source": [
        "<a href=\"https://colab.research.google.com/github/Darakshan2025/Project4-Assignments/blob/main/online_class_projects_01_basics.ipynb\" target=\"_parent\"><img src=\"https://colab.research.google.com/assets/colab-badge.svg\" alt=\"Open In Colab\"/></a>"
      ]
    },
    {
      "cell_type": "code",
      "execution_count": 5,
      "metadata": {
        "colab": {
          "base_uri": "https://localhost:8080/"
        },
        "id": "bBf_5HS5wkOR",
        "outputId": "03cc5d90-6027-4a08-b17c-92c05565c159"
      },
      "outputs": [
        {
          "output_type": "stream",
          "name": "stdout",
          "text": [
            "00_joke_bot.\n",
            "what do you want? joke\n",
            "Why don’t skeletons fight each other? \n",
            " Because they don’t have the guts! 😆💀\n"
          ]
        }
      ],
      "source": [
        "print(\"00_joke_bot.\")\n",
        "\n",
        "PROMPT: str = \"what do you want? \"\n",
        "JOKE: str = \"Why don’t skeletons fight each other? \\n Because they don’t have the guts! 😆💀\"\n",
        "SORRY:str = \"Sorry I only tell jokes.\"\n",
        "\n",
        "def main():\n",
        "  user_input = input(PROMPT).strip().lower()\n",
        "\n",
        "  if \"joke\" in user_input:\n",
        "    print(JOKE)\n",
        "  else:\n",
        "    print(SORRY)\n",
        "\n",
        "\n",
        "if __name__ == \"__main__\":\n",
        "  main()"
      ]
    },
    {
      "cell_type": "code",
      "source": [
        "print(\"01_double_it\")\n",
        "\n",
        "def main():\n",
        "  user_value= int(input(\"Please enter a number.\"))\n",
        "  while user_value < 100:\n",
        "    user_value = user_value*2\n",
        "    print(user_value)\n",
        "\n",
        "if __name__ == \"__main__\":\n",
        "  main()\n",
        "\n",
        "\n"
      ],
      "metadata": {
        "colab": {
          "base_uri": "https://localhost:8080/"
        },
        "id": "Ec4P5ZADzGj0",
        "outputId": "783f60a0-1a62-4a6c-df48-8b67aa172284"
      },
      "execution_count": 6,
      "outputs": [
        {
          "output_type": "stream",
          "name": "stdout",
          "text": [
            "01_double_it\n",
            "05_double_it\n",
            "Please enter a number.4\n",
            "8\n",
            "16\n",
            "32\n",
            "64\n",
            "128\n"
          ]
        }
      ]
    },
    {
      "cell_type": "code",
      "source": [
        "print(\"02_liftoff.\")\n",
        "\n",
        "def main():\n",
        "\n",
        "  for i in range(10,0,-1):\n",
        "    print(i,end = \" \")\n",
        "  print(\"Liftoff!\")\n",
        "\n",
        "if __name__ == \"__main__\":\n",
        "  main()"
      ],
      "metadata": {
        "colab": {
          "base_uri": "https://localhost:8080/"
        },
        "id": "adWtRPqv0a7z",
        "outputId": "b4e828fa-d566-4135-b7cb-e91217159df7"
      },
      "execution_count": 7,
      "outputs": [
        {
          "output_type": "stream",
          "name": "stdout",
          "text": [
            "02_liftoff.\n",
            "10 9 8 7 6 5 4 3 2 1 Liftoff!\n"
          ]
        }
      ]
    },
    {
      "cell_type": "code",
      "source": [
        "\n",
        "import random\n",
        "\n",
        "print(\"03_guess_my_number\")\n",
        "\n",
        "def main():\n",
        "  secret_number = random.randint(1, 100)\n",
        "  print(\"I am thinking a number between 1 and 100...\")\n",
        "\n",
        "  guess = int(input(\"Guess a number\"))\n",
        "\n",
        "  while guess != secret_number:\n",
        "      if guess > secret_number:\n",
        "        print(\"your guess is too high\")\n",
        "      else:\n",
        "        print(\"your guess is too low\")\n",
        "      guess = int(input(\"Guess again!\"))\n",
        "\n",
        "  print(f\"✌ Congratulate! The {secret_number} is correct\")\n",
        "\n",
        "if __name__ == \"__main__\":\n",
        "   main()\n",
        ""
      ],
      "metadata": {
        "colab": {
          "base_uri": "https://localhost:8080/"
        },
        "id": "VbaBaMMg0wU-",
        "outputId": "46556c4f-fb56-4610-88b9-a12d5429b2ec"
      },
      "execution_count": 8,
      "outputs": [
        {
          "output_type": "stream",
          "name": "stdout",
          "text": [
            "03_guess_my_number\n",
            "I am thinking a number between 1 and 100...\n",
            "Guess a number65\n",
            "your guess is too high\n",
            "Guess again!45\n",
            "your guess is too high\n",
            "Guess again!35\n",
            "your guess is too high\n",
            "Guess again!25\n",
            "your guess is too high\n",
            "Guess again!15\n",
            "your guess is too low\n",
            "Guess again!18\n",
            "your guess is too low\n",
            "Guess again!17\n",
            "your guess is too low\n",
            "Guess again!16\n",
            "your guess is too low\n",
            "Guess again!14\n",
            "your guess is too low\n",
            "Guess again!19\n",
            "your guess is too low\n",
            "Guess again!20\n",
            "✌ Congratulate! The 20 is correct\n"
          ]
        }
      ]
    },
    {
      "cell_type": "code",
      "source": [
        "print(\"04_random_numbers\")\n",
        "\n",
        "import random\n",
        "\n",
        "def main():\n",
        "  for i in range(10):\n",
        "    num:list[int] = random.randint(1,100)\n",
        "    print(num)\n",
        "\n",
        "if __name__ == \"__main__\":\n",
        "  main()"
      ],
      "metadata": {
        "colab": {
          "base_uri": "https://localhost:8080/"
        },
        "id": "ihSB-PyH1iR4",
        "outputId": "c535973d-c687-406e-9534-ba0ac1d4585a"
      },
      "execution_count": 9,
      "outputs": [
        {
          "output_type": "stream",
          "name": "stdout",
          "text": [
            "04_random_numbers\n",
            "19\n",
            "46\n",
            "67\n",
            "11\n",
            "50\n",
            "34\n",
            "43\n",
            "79\n",
            "50\n",
            "21\n"
          ]
        }
      ]
    }
  ]
}