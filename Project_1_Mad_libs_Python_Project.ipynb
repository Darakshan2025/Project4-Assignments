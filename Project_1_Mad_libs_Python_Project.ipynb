{
  "nbformat": 4,
  "nbformat_minor": 0,
  "metadata": {
    "colab": {
      "provenance": [],
      "authorship_tag": "ABX9TyP3qxuA2s6Bq4UJDq4lR6+B",
      "include_colab_link": true
    },
    "kernelspec": {
      "name": "python3",
      "display_name": "Python 3"
    },
    "language_info": {
      "name": "python"
    }
  },
  "cells": [
    {
      "cell_type": "markdown",
      "metadata": {
        "id": "view-in-github",
        "colab_type": "text"
      },
      "source": [
        "<a href=\"https://colab.research.google.com/github/Darakshan2025/Project4-Assignments/blob/main/Project_1_Mad_libs_Python_Project.ipynb\" target=\"_parent\"><img src=\"https://colab.research.google.com/assets/colab-badge.svg\" alt=\"Open In Colab\"/></a>"
      ]
    },
    {
      "cell_type": "code",
      "execution_count": 4,
      "metadata": {
        "colab": {
          "base_uri": "https://localhost:8080/"
        },
        "id": "waYx2kDvcJwr",
        "outputId": "2584ecc7-661e-468a-b598-b03d9041b0ce"
      },
      "outputs": [
        {
          "output_type": "stream",
          "name": "stdout",
          "text": [
            "Enter your Name. Ahmed\n",
            "Your city Name.Lahore\n",
            "Enter your verb.eating\n",
            "Enter an Animal Name.goat\n",
            "Enter an adjective.angrily\n",
            "Ek din, Ahmed Lahore waha gaya. Wahan us na ek angrily goat dekha jo eating kr raha tha. Ya dekh kr, Ahmed boht hairan hua.\n"
          ]
        }
      ],
      "source": [
        "def Maidlibs():\n",
        "  name = str(input(\"Enter your Name. \"))\n",
        "  city = str(input(\"Your city Name.\"))\n",
        "  verb = str(input(\"Enter your verb.\"))\n",
        "  animal = str(input(\"Enter an Animal Name.\"))\n",
        "  adjective = str(input(\"Enter an adjective.\"))\n",
        "\n",
        "  print(f'Ek din, {name} {city} waha gaya. Wahan us na ek {adjective} {animal} dekha jo {verb} kr raha tha. Ya dekh kr, {name} boht hairan hua.')\n",
        "\n",
        "Maidlibs()"
      ]
    },
    {
      "cell_type": "code",
      "source": [
        "def calculator(first_num,second_num,operation):\n",
        "  #operation (+ - * /)\n",
        "  if operation == \"+\":\n",
        "    print(first_num+second_num)\n",
        "  elif operation == \"-\":\n",
        "    print(first_num - second_num)\n",
        "  elif operation == \"*\":\n",
        "    print(first_num*second_num)\n",
        "  elif operation == \"/\":\n",
        "    print(first_num/second_num)\n",
        "\n",
        "first = int(input(\"Enter a first number\"))\n",
        "second = int(input(\"Enter a second number\"))\n",
        "operation = input(\"Enter a operator\")\n",
        "\n",
        "calculator(first,second,operation)"
      ],
      "metadata": {
        "colab": {
          "base_uri": "https://localhost:8080/"
        },
        "id": "TBF_iUkcrgId",
        "outputId": "cfd9b146-200f-49b5-f822-a530810d9b38"
      },
      "execution_count": 1,
      "outputs": [
        {
          "output_type": "stream",
          "name": "stdout",
          "text": [
            "Enter a first number7\n",
            "Enter a second number2\n",
            "Enter a operator*\n",
            "14\n"
          ]
        }
      ]
    }
  ]
}