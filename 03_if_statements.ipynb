{
  "nbformat": 4,
  "nbformat_minor": 0,
  "metadata": {
    "colab": {
      "provenance": [],
      "authorship_tag": "ABX9TyM/h52KTPaTMvWToGa0XNh7",
      "include_colab_link": true
    },
    "kernelspec": {
      "name": "python3",
      "display_name": "Python 3"
    },
    "language_info": {
      "name": "python"
    }
  },
  "cells": [
    {
      "cell_type": "markdown",
      "metadata": {
        "id": "view-in-github",
        "colab_type": "text"
      },
      "source": [
        "<a href=\"https://colab.research.google.com/github/Darakshan2025/Project4-Assignments/blob/main/03_if_statements.ipynb\" target=\"_parent\"><img src=\"https://colab.research.google.com/assets/colab-badge.svg\" alt=\"Open In Colab\"/></a>"
      ]
    },
    {
      "cell_type": "code",
      "execution_count": null,
      "metadata": {
        "colab": {
          "base_uri": "https://localhost:8080/"
        },
        "id": "qtrXODgIElee",
        "outputId": "d704cd23-efc1-45d5-a9fc-d28640317113"
      },
      "outputs": [
        {
          "output_type": "stream",
          "name": "stdout",
          "text": [
            "01_print_events\n",
            "0\n",
            "2\n",
            "4\n",
            "6\n",
            "8\n",
            "10\n",
            "12\n",
            "14\n",
            "16\n",
            "18\n",
            "20\n",
            "22\n",
            "24\n",
            "26\n",
            "28\n",
            "30\n",
            "32\n",
            "34\n",
            "36\n",
            "38\n",
            "40\n",
            "42\n",
            "44\n",
            "46\n",
            "48\n",
            "50\n",
            "52\n",
            "54\n",
            "56\n",
            "58\n",
            "60\n",
            "62\n",
            "64\n",
            "66\n",
            "68\n",
            "70\n",
            "72\n",
            "74\n",
            "76\n",
            "78\n"
          ]
        }
      ],
      "source": [
        "print(\"01_print_events\")\n",
        "\n",
        "def even():\n",
        "  for i in range(40):\n",
        "    even = i * 2\n",
        "    print(even)\n",
        "\n",
        "if __name__ == \"__main__\":\n",
        "  even()"
      ]
    },
    {
      "cell_type": "code",
      "source": [
        "print(\"02_international_voting_age\")\n",
        "\n",
        "Peturksbouipo:int = 16\n",
        "Stanlau:int = 25\n",
        "Mayengua:int = 48\n",
        "age:int = int(input(\"How old are you? \"))\n",
        "\n",
        "def main():\n",
        "\n",
        "  if age >= Peturksbouipo:\n",
        "    print(f\"Your age is {age}. You are eligible to vote\")\n",
        "  else:\n",
        "    print(f\"Your age is {age}. You are not eligible to vote. \")\n",
        "\n",
        "  if age >= Stanlau:\n",
        "    print(f\"Your age is {age}. You are eligible to vote\")\n",
        "  else:\n",
        "    print(f\"Your age is {age}. You are not eligible to vote\")\n",
        "\n",
        "  if age >= Mayengua:\n",
        "    print(f\"Your age is {age}. You are eligible to vote\")\n",
        "  else:\n",
        "    print(f\"Your age is {age}. You are not eligible to vote\")\n",
        "\n",
        "if __name__ == \"__main__\":\n",
        "  main()"
      ],
      "metadata": {
        "colab": {
          "base_uri": "https://localhost:8080/"
        },
        "id": "2bcX8WutGa0g",
        "outputId": "6a646f9b-d4ad-4284-8959-e638a9631548"
      },
      "execution_count": null,
      "outputs": [
        {
          "output_type": "stream",
          "name": "stdout",
          "text": [
            "02_international_voting_age\n",
            "How old are you? 43\n",
            "Your age is 43. You are eligible to vote\n",
            "Your age is 43. You are eligible to vote\n",
            "Your age is 43. You are not eligible to vote\n"
          ]
        }
      ]
    },
    {
      "cell_type": "code",
      "source": [
        "print('03_leap_year')\n",
        "\n",
        "def leap_year():\n",
        "  year:int = int(input(\"Enter a year: \"))\n",
        "\n",
        "  if year % 4 == 0:\n",
        "    if year % 100 == 0:\n",
        "      if year % 400 ==0:\n",
        "        print(f'{year} is a leap year.')\n",
        "      else:\n",
        "        print(f'{year} is not a leap year.')\n",
        "    else:\n",
        "      print(f'{year} is a leap year.')\n",
        "  else:\n",
        "      print(f'{year} is not a leap year.')\n",
        "\n",
        "\n",
        "if __name__ == \"__main__\":\n",
        "  leap_year()"
      ],
      "metadata": {
        "colab": {
          "base_uri": "https://localhost:8080/"
        },
        "id": "Vy5TXiyvZjp3",
        "outputId": "25a22c7c-1b7f-4a33-d537-72a47c4ab6d9"
      },
      "execution_count": null,
      "outputs": [
        {
          "output_type": "stream",
          "name": "stdout",
          "text": [
            "03_leap_year\n",
            "Enter a year: 2020\n",
            "2020 is a leap year.\n"
          ]
        }
      ]
    },
    {
      "cell_type": "code",
      "source": [
        "print(\"04_tall_enough_to_ride\")\n",
        "\n",
        "min_height:int = 50\n",
        "def main():\n",
        "  user:int = int(input(\"How tall you are? \"))\n",
        "\n",
        "  if user >= min_height:\n",
        "    print(\"You are tall enough to ride\")\n",
        "  else:\n",
        "    print(\"You are not tall enough to ride\")\n",
        "\n",
        "if __name__ == \"__main__\":\n",
        "  main()"
      ],
      "metadata": {
        "colab": {
          "base_uri": "https://localhost:8080/"
        },
        "id": "Y2f6CrIAc_Yz",
        "outputId": "e2ac218f-80da-4fff-96b4-0479b8ca91af"
      },
      "execution_count": null,
      "outputs": [
        {
          "output_type": "stream",
          "name": "stdout",
          "text": [
            "04_tall_enough_to_ride\n",
            "How tall you are? 30\n",
            "You are not tall enough to ride\n"
          ]
        }
      ]
    },
    {
      "cell_type": "code",
      "source": [
        "print(\"05_random_numbers\")\n",
        "\n",
        "import random\n",
        "\n",
        "def main():\n",
        "  for i in range(10):\n",
        "    num:list[int] = random.randint(1,100)\n",
        "    print(num)\n",
        "\n",
        "if __name__ == \"__main__\":\n",
        "  main()\n"
      ],
      "metadata": {
        "id": "K2Gc1gVje1Rz",
        "colab": {
          "base_uri": "https://localhost:8080/"
        },
        "outputId": "d9cf8a15-3c7b-43eb-fd58-d6f5c1f98239"
      },
      "execution_count": 7,
      "outputs": [
        {
          "output_type": "stream",
          "name": "stdout",
          "text": [
            "05_random_numbers\n",
            "30\n",
            "12\n",
            "2\n",
            "2\n",
            "15\n",
            "20\n",
            "6\n",
            "59\n",
            "76\n",
            "93\n"
          ]
        }
      ]
    }
  ]
}