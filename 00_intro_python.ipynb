{
  "nbformat": 4,
  "nbformat_minor": 0,
  "metadata": {
    "colab": {
      "provenance": [],
      "authorship_tag": "ABX9TyNKDdgLdD4ovLyzPHqhHYq9",
      "include_colab_link": true
    },
    "kernelspec": {
      "name": "python3",
      "display_name": "Python 3"
    },
    "language_info": {
      "name": "python"
    }
  },
  "cells": [
    {
      "cell_type": "markdown",
      "metadata": {
        "id": "view-in-github",
        "colab_type": "text"
      },
      "source": [
        "<a href=\"https://colab.research.google.com/github/Darakshan2025/Project4-Assignments/blob/main/00_intro_python.ipynb\" target=\"_parent\"><img src=\"https://colab.research.google.com/assets/colab-badge.svg\" alt=\"Open In Colab\"/></a>"
      ]
    },
    {
      "cell_type": "markdown",
      "source": [
        "01_add_two_numbers."
      ],
      "metadata": {
        "id": "hvogchPHt303"
      }
    },
    {
      "cell_type": "code",
      "source": [
        "print(\"01_add_two_numbers.\")\n",
        "\n",
        "def add():\n",
        "  first_number = int(input(\"Enter first integer: \"))\n",
        "  second_number = int(input(\"Enter second integer: \"))\n",
        "  total = int(first_number + second_number)\n",
        "  print(f'The sum of {first_number} and {second_number} is {total}. ' )\n",
        "\n",
        "if __name__ == \"__main__\":\n",
        "  add()"
      ],
      "metadata": {
        "colab": {
          "base_uri": "https://localhost:8080/"
        },
        "id": "GlxfBYgVuH9P",
        "outputId": "5024b596-c9e1-4822-acf2-7cd6f6cf6028"
      },
      "execution_count": 4,
      "outputs": [
        {
          "output_type": "stream",
          "name": "stdout",
          "text": [
            "01_add_two_numbers.\n",
            "Enter first integer: 5\n",
            "Enter second integer: 6\n",
            "The sum of 5 and 6 is 11. \n"
          ]
        }
      ]
    },
    {
      "cell_type": "markdown",
      "source": [
        "02_agreement_bot.md"
      ],
      "metadata": {
        "id": "2aDUPRH2x_Ql"
      }
    },
    {
      "cell_type": "code",
      "source": [
        "print(\"02_agreement_bot\")\n",
        "\n",
        "def bot():\n",
        "  animal = str(input(\"What is your favourite animal name? \"))\n",
        "  print(f'My favourite animal is also {animal}. ')\n",
        "\n",
        "if __name__ == \"__main__\":\n",
        "  bot()"
      ],
      "metadata": {
        "colab": {
          "base_uri": "https://localhost:8080/"
        },
        "id": "4vHUDnnSyOmV",
        "outputId": "c916929c-e652-4a58-fecb-1f5c8637fd0f"
      },
      "execution_count": 8,
      "outputs": [
        {
          "output_type": "stream",
          "name": "stdout",
          "text": [
            "02_agreement_bot\n",
            "What is your favourite animal name? goat\n",
            "My favourite animal is also goat. \n"
          ]
        }
      ]
    },
    {
      "cell_type": "code",
      "source": [
        "print(\"03_fahrenheit_to_celsius.md\")\n",
        "\n",
        "def temp():\n",
        "  print(\"This code is for converting forenheit to celsuis.\")\n",
        "  fahrenheit_degree = float(input(\"Enter temperature in fahrenheit: \"))\n",
        "  celsius_degree = (fahrenheit_degree - 32) * 5.0/9.0\n",
        "  print(f\"Temperature {fahrenheit_degree} Farenheit = {celsius_degree} Celsius\")\n",
        "\n",
        "if __name__ == \"__main__\":\n",
        "  temp()\n",
        "\n",
        "\n",
        "\n"
      ],
      "metadata": {
        "colab": {
          "base_uri": "https://localhost:8080/"
        },
        "id": "HDgrReIz1QAb",
        "outputId": "de5c7148-8d77-47e9-db37-f3143ba30029"
      },
      "execution_count": 11,
      "outputs": [
        {
          "output_type": "stream",
          "name": "stdout",
          "text": [
            "03_fahrenheit_to_celsius.md\n",
            "This code is for converting forenheit to celsuis.\n",
            "Enter temperature in fahrenheit: 65\n",
            "Temperature 65.0 Farenheit = 18.333333333333332 Celsius\n"
          ]
        }
      ]
    },
    {
      "cell_type": "code",
      "source": [
        "print(\"04_how_old_are_they.md\")\n",
        "\n",
        "def ages():\n",
        "  anton:int = 21\n",
        "  beth:int = anton + 6\n",
        "  chen:int = beth + 20\n",
        "  drew:int = chen + anton\n",
        "  ethan = chen\n",
        "  print(\"Anton is \" + str(anton) + \" years old.\")\n",
        "  print(\"Beth is \" + str(beth) + \" years old.\")\n",
        "  print(\"Chen is \" + str(chen) + \" years old.\")\n",
        "  print(\"Drew is \" + str(drew) + \" years old.\")\n",
        "  print(\"Ethan is \" + str(ethan) + \" years old.\")\n",
        "\n",
        "if __name__ == \"__main__\":\n",
        "  ages()\n"
      ],
      "metadata": {
        "colab": {
          "base_uri": "https://localhost:8080/"
        },
        "id": "pwBpyPTK3Xlw",
        "outputId": "28d0f09f-1050-491b-8762-3b713335142b"
      },
      "execution_count": 12,
      "outputs": [
        {
          "output_type": "stream",
          "name": "stdout",
          "text": [
            "04_how_old_are_they.md\n",
            "Anton is 21 years old.\n",
            "Beth is 27 years old.\n",
            "Chen is 47 years old.\n",
            "Drew is 68 years old.\n",
            "Ethan is 47 years old.\n"
          ]
        }
      ]
    },
    {
      "cell_type": "code",
      "source": [
        "print('05_triangle_perimeter.md')\n",
        "\n",
        "def triangle():\n",
        "  print(\"This code is about parameter of the triangle.\")\n",
        "  side_1 = float(input(\"Enter the first side length of triangle: \"))\n",
        "  side_2 = float(input(\"Enter the second side length of side 2: \"))\n",
        "  side_3 = float(input(\"Enter the third side length of side 3: \"))\n",
        "  total:float = float(side_1 + side_2 + side_3)\n",
        "  print(f'The parameter of the triangle is {total}' )\n",
        "\n",
        "if __name__ == \"__main__\":\n",
        "  triangle()"
      ],
      "metadata": {
        "colab": {
          "base_uri": "https://localhost:8080/"
        },
        "id": "nPhr2AUV5wGA",
        "outputId": "293aa33f-af2d-4f85-9440-d79f1c0b5ab8"
      },
      "execution_count": 18,
      "outputs": [
        {
          "output_type": "stream",
          "name": "stdout",
          "text": [
            "05_triangle_perimeter.md\n",
            "This code is about parameter of the triangle.\n",
            "Enter the first side length of triangle: 45\n",
            "Enter the second side length of side 2: 34\n",
            "Enter the third side length of side 3: 45\n",
            "The parameter of the triangle is 124.0\n"
          ]
        }
      ]
    },
    {
      "cell_type": "code",
      "source": [
        "print(\"06_square_number.md\")\n",
        "\n",
        "def square():\n",
        "  num1:int = int(input(\"Enter the number for which you required square \"))\n",
        "  print(f'The square of {num1} is {num1 ** 2}')\n",
        "\n",
        "if __name__ == \"__main__\":\n",
        "  square()\n",
        ""
      ],
      "metadata": {
        "colab": {
          "base_uri": "https://localhost:8080/"
        },
        "id": "thzJFuIuBEWi",
        "outputId": "26be08e5-95c8-4722-c1b3-ac67e6afb612"
      },
      "execution_count": 20,
      "outputs": [
        {
          "output_type": "stream",
          "name": "stdout",
          "text": [
            "06_square_number.md\n",
            "Enter the number for which you required square 4\n",
            "The square of 4 is 16\n"
          ]
        }
      ]
    }
  ]
}