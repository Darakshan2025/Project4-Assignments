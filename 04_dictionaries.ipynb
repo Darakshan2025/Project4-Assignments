{
  "nbformat": 4,
  "nbformat_minor": 0,
  "metadata": {
    "colab": {
      "provenance": [],
      "authorship_tag": "ABX9TyMQY8kx4iz+jQ14jehBu52+",
      "include_colab_link": true
    },
    "kernelspec": {
      "name": "python3",
      "display_name": "Python 3"
    },
    "language_info": {
      "name": "python"
    }
  },
  "cells": [
    {
      "cell_type": "markdown",
      "metadata": {
        "id": "view-in-github",
        "colab_type": "text"
      },
      "source": [
        "<a href=\"https://colab.research.google.com/github/Darakshan2025/Project4-Assignments/blob/main/04_dictionaries.ipynb\" target=\"_parent\"><img src=\"https://colab.research.google.com/assets/colab-badge.svg\" alt=\"Open In Colab\"/></a>"
      ]
    },
    {
      "cell_type": "code",
      "execution_count": 5,
      "metadata": {
        "colab": {
          "base_uri": "https://localhost:8080/"
        },
        "id": "p8LfTfVkrU_1",
        "outputId": "80468802-6a28-4c02-cb1d-79ee98ad461f"
      },
      "outputs": [
        {
          "output_type": "stream",
          "name": "stdout",
          "text": [
            "00_count_nums\n",
            "Enter a number (or 'Exit' to quit): 4\n",
            "{4: 1}\n",
            "Enter a number (or 'Exit' to quit): 4\n",
            "{4: 2}\n",
            "Enter a number (or 'Exit' to quit): 5\n",
            "{4: 2, 5: 1}\n",
            "Enter a number (or 'Exit' to quit): 3\n",
            "{4: 2, 5: 1, 3: 1}\n",
            "Enter a number (or 'Exit' to quit): 6\n",
            "{4: 2, 5: 1, 3: 1, 6: 1}\n",
            "Enter a number (or 'Exit' to quit): 7\n",
            "{4: 2, 5: 1, 3: 1, 6: 1, 7: 1}\n",
            "Enter a number (or 'Exit' to quit): 7\n",
            "{4: 2, 5: 1, 3: 1, 6: 1, 7: 2}\n",
            "Enter a number (or 'Exit' to quit): 7\n",
            "{4: 2, 5: 1, 3: 1, 6: 1, 7: 3}\n",
            "Enter a number (or 'Exit' to quit): exit\n",
            "invalid input. Please enter a number or 'Exit'. \n",
            "\n",
            "Number Counts:\n",
            "4 appears 2 times.\n",
            "5 appears 1 times.\n",
            "3 appears 1 times.\n",
            "6 appears 1 times.\n",
            "7 appears 3 times.\n"
          ]
        }
      ],
      "source": [
        "print(\"00_count_nums\")\n",
        "\n",
        "def count_numbers():\n",
        "  count_dict = {}\n",
        "\n",
        "  while True:\n",
        "    num = input(\"Enter a number (or 'Exit' to quit): \")\n",
        "    if num.lower() == 'Exit':\n",
        "      break\n",
        "    if num.isdigit():\n",
        "      num = int(num)\n",
        "      count_dict[num] = count_dict.get(num, 0) + 1\n",
        "      print(count_dict)\n",
        "    else:\n",
        "      print(\"invalid input. Please enter a number or 'Exit'. \")\n",
        "      return count_dict\n",
        "\n",
        "def display_counts(count_dict):\n",
        "  print(\"\\nNumber Counts:\")\n",
        "  for key,value in count_dict.items():\n",
        "    print(f'{key} appears {value} times.')\n",
        "\n",
        "if __name__ == \"__main__\":\n",
        "  count = count_numbers()\n",
        "  display_counts(count)"
      ]
    },
    {
      "cell_type": "code",
      "source": [
        "print(\"01_phonebook\")\n",
        "\n",
        "def add_contact(phonebook):\n",
        "  name = input(\"Enter contact's name: \")\n",
        "  number = input(\"Enter contact's phone number: \")\n",
        "\n",
        "  if name in phonebook:\n",
        "    print(f'{name} already exists in the phonebook.')\n",
        "  else:\n",
        "    phonebook[name] = number\n",
        "    print(f'{name} has been added to the phonebook.')\n",
        "\n",
        "def search_contact(phonebook):\n",
        "  name = input(\"Enter contact name to search: \")\n",
        "\n",
        "  if name in phonebook:\n",
        "    print(f'{name}: {phonebook[name]}')\n",
        "  else:\n",
        "    print(f'{name} not found in the phonebook. ')\n",
        "\n",
        "def display_contact(phonebook):\n",
        "  if phonebook:\n",
        "    print(\"\\n Phonebook Contact list\")\n",
        "    for name,number in phonebook.items():\n",
        "      print(f'{name}: {number}')\n",
        "  else:\n",
        "    print(\"Phonebook is empty.\")\n",
        "\n",
        "def del_contact(phonebook):\n",
        "  name = input(\"Enter contact name to delete: \")\n",
        "  if name in phonebook:\n",
        "    del phonebook[name]\n",
        "    print(f'{name} has been deleted from the phonebook.')\n",
        "  else:\n",
        "    print(f'{name} not found in the phonebook.')\n",
        "\n",
        "if __name__==\"__main__\":\n",
        "  phonebook = {}\n",
        "  while True:\n",
        "    print(\"\\n Phonebook Menu\")\n",
        "    print(\"1. Add a Contact\")\n",
        "    print(\"2. Search for a Contact\")\n",
        "    print(\"3. Display Contact\")\n",
        "    print(\"4. Delete a Contact\")\n",
        "    print(\"5. Exit\")\n",
        "\n",
        "    choice = input(\"Enter your choice (1-5): \")\n",
        "\n",
        "    if choice == '1':\n",
        "     add_contact(phonebook)\n",
        "    elif choice == '2':\n",
        "      search_contact(phonebook)\n",
        "    elif choice == '3':\n",
        "       del_contact(phonebook)  # ✅ Fixed: delete function ka call\n",
        "    elif choice == '4':\n",
        "        display_contact(phonebook)  # ✅ Fixed: display function ka call\n",
        "    elif choice == '5':\n",
        "        print(\"Exiting Phonebook, Thank you!\")  # ✅ Fix: Break se pehle message\n",
        "        break  # ✅ Ab loop sahi tareeke se exit karega\n",
        "    else:\n",
        "        print(\"Invalid choice. Please enter a number between 1-5.\")\n",
        "\n"
      ],
      "metadata": {
        "colab": {
          "base_uri": "https://localhost:8080/"
        },
        "id": "R2sxM8AZh2A2",
        "outputId": "ff54bb4b-84ed-40a2-fd46-0991c2f32088"
      },
      "execution_count": null,
      "outputs": [
        {
          "output_type": "stream",
          "name": "stdout",
          "text": [
            "01_phonebook\n",
            "\n",
            " Phonebook Menu\n",
            "1. Add a Contact\n",
            "2. Search for a Contact\n",
            "3. Display Contact\n",
            "4. Delete a Contact\n",
            "5. Exit\n",
            "Enter your choice (1-5): 1\n",
            "Enter contact's name: Darakshan\n",
            "Enter contact's phone number: 123456789\n",
            "Darakshan has been added to the phonebook.\n",
            "\n",
            " Phonebook Menu\n",
            "1. Add a Contact\n",
            "2. Search for a Contact\n",
            "3. Display Contact\n",
            "4. Delete a Contact\n",
            "5. Exit\n"
          ]
        }
      ]
    },
    {
      "cell_type": "code",
      "source": [
        "print(\"02_pop_up_shop\")\n",
        "\n",
        "def calculate_total_cost():\n",
        "  fruits_price = {\n",
        "      \"apple\":5.0,\n",
        "      \"mango\":1.0,\n",
        "      \"pineapple\":15.0,\n",
        "      \"kivi\":8.0,\n",
        "      \"pears\":12.0,\n",
        "      \"orange\":10.0\n",
        "  }\n",
        "\n",
        "  total_cost = 0\n",
        "\n",
        "  for fruit,price in fruits_price.items():\n",
        "    while True:\n",
        "      try:\n",
        "        quantity = int(input(f'How many {fruit} do you want?'))\n",
        "        if quantity < 0:\n",
        "          print(\"Invalid input. Please enter a non-negative number. \")\n",
        "          continue\n",
        "        total_cost += price * quantity\n",
        "        break\n",
        "      except ValueError:\n",
        "        print(\"Invalid input. Please enter a valid number. \")\n",
        "\n",
        "      print(f'Your {fruit} cost is: ${total_cost:.2f}')\n",
        "\n",
        "if __name__==\"__main__\":\n",
        "  calculate_total_cost()"
      ],
      "metadata": {
        "id": "7lDC9Bh7vkVy"
      },
      "execution_count": null,
      "outputs": []
    },
    {
      "cell_type": "code",
      "source": [
        "import hashlib\n",
        "print(\"03_powerful_passwords\")\n",
        "\n",
        "def hash_password(password):\n",
        "  return hashlib.sha256(password.encode()).hexdigest()\n",
        "\n",
        "stored_logins = {\n",
        "    \"user@exapmle.com\":hash_password(\"password123\"),\n",
        "     \"admin@example.com\":hash_password(\"adminpass\")\n",
        "\n",
        "}\n",
        "\n",
        "def login(email,password):\n",
        "  if email in stored_logins:\n",
        "    return stored_logins[email] == hash_password(password)\n",
        "  return False\n",
        "\n",
        "if __name__ ==\"__main__\":\n",
        "  email = input(\"Enter your email: \")\n",
        "  password = input(\"Enter your password: \")\n",
        "\n",
        "  if login(email,password)\n",
        "    print(\"Login successful\")\n",
        "  else:\n",
        "    print(\"invalid email or password\")\n"
      ],
      "metadata": {
        "id": "FKncqAIR1cc1"
      },
      "execution_count": null,
      "outputs": []
    }
  ]
}