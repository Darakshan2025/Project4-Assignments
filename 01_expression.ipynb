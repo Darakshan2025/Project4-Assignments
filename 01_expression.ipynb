{
  "nbformat": 4,
  "nbformat_minor": 0,
  "metadata": {
    "colab": {
      "provenance": [],
      "authorship_tag": "ABX9TyNmwFXssDSZcUxQ3Cr0s/gB",
      "include_colab_link": true
    },
    "kernelspec": {
      "name": "python3",
      "display_name": "Python 3"
    },
    "language_info": {
      "name": "python"
    }
  },
  "cells": [
    {
      "cell_type": "markdown",
      "metadata": {
        "id": "view-in-github",
        "colab_type": "text"
      },
      "source": [
        "<a href=\"https://colab.research.google.com/github/Darakshan2025/Project4-Assignments/blob/main/01_expression.ipynb\" target=\"_parent\"><img src=\"https://colab.research.google.com/assets/colab-badge.svg\" alt=\"Open In Colab\"/></a>"
      ]
    },
    {
      "cell_type": "markdown",
      "source": [
        "Simulate rolling two dice, three times. Prints the results of each die roll. This program is used to show how variable scope works.\n",
        "\n"
      ],
      "metadata": {
        "id": "DqEfg_rEQFDn"
      }
    },
    {
      "cell_type": "markdown",
      "source": [],
      "metadata": {
        "id": "pfnxo4UPwPKJ"
      }
    },
    {
      "cell_type": "code",
      "source": [
        "import random\n",
        "print(\"01_dicesimulator\")\n",
        "\n",
        "def roll_dice():\n",
        "  die1:int = random.randint(1,6)\n",
        "  die2:int = random.randint(1,6)\n",
        "  total:int = die1 + die2\n",
        "  print(f'Total of two dies: {total}')\n",
        "\n",
        "def main():\n",
        "  die1:int = 10\n",
        "  print(\"die1 in main() start as :\" + str(die1))\n",
        "  roll_dice()\n",
        "  roll_dice()\n",
        "  roll_dice()\n",
        "  print(\"die1 in main() is: \" + str(die1))\n",
        "\n",
        "if __name__ == \"__main__\":\n",
        "  main()"
      ],
      "metadata": {
        "colab": {
          "base_uri": "https://localhost:8080/"
        },
        "id": "3zqpuKSGQHKm",
        "outputId": "8e2b114c-3834-4193-e990-3ebd8e65f304"
      },
      "execution_count": null,
      "outputs": [
        {
          "output_type": "stream",
          "name": "stdout",
          "text": [
            "01_dicesimulator\n",
            "die1 in main() start as :10\n",
            "Total of two dies: 7\n",
            "Total of two dies: 11\n",
            "Total of two dies: 7\n",
            "die1 in main() is: 10\n"
          ]
        }
      ]
    },
    {
      "cell_type": "code",
      "source": [
        "print(\"02_e=mc2\")\n",
        "\n",
        "def energy():\n",
        "  c:int =  299792458\n",
        "  m:float = float(input(\"Enter Kilos of mass: \"))\n",
        "  print(\"e = m * C^2\")\n",
        "  print(\"Mass = \" + str(m) + \"kg\")\n",
        "  print(\"C = \" + str(c) + \" m/s\")\n",
        "  print(\"e = \" + str(m * c ** 2) + \" jules\")\n",
        "\n",
        "if __name__ == \"__main__\":\n",
        "  energy()\n"
      ],
      "metadata": {
        "colab": {
          "base_uri": "https://localhost:8080/"
        },
        "id": "IUNS0XSJTw82",
        "outputId": "865f19bc-c96c-475b-8c3c-cd873554d23b"
      },
      "execution_count": null,
      "outputs": [
        {
          "output_type": "stream",
          "name": "stdout",
          "text": [
            "02_e=mc2\n",
            "Enter Kilos of mass: 100\n",
            "e = m * C^2\n",
            "Mass = 100.0kg\n",
            "C = 299792458 m/s\n",
            "e = 8.987551787368176e+18 jules\n"
          ]
        }
      ]
    },
    {
      "cell_type": "code",
      "source": [
        "print(\"03_feet_to_inches\")\n",
        "\n",
        "inch: int = 12\n",
        "\n",
        "def foot():\n",
        "  feet:int = int(input(\"Enter feet and i will convert it to inches. \"))\n",
        "  print(f'There are {inch * feet} inches in {feet} feet.')\n",
        "\n",
        "if __name__==\"__main__\":\n",
        "  foot()"
      ],
      "metadata": {
        "colab": {
          "base_uri": "https://localhost:8080/"
        },
        "id": "yUKsyTnCwZEi",
        "outputId": "f90dce39-2389-4a06-be3d-a691b4a228d6"
      },
      "execution_count": 3,
      "outputs": [
        {
          "output_type": "stream",
          "name": "stdout",
          "text": [
            "03_feet_to_inches\n",
            "Enter feet and i will convert it to inches. 5\n",
            "There are 60 inches in 5 feet.\n"
          ]
        }
      ]
    },
    {
      "cell_type": "code",
      "source": [
        "import math\n",
        "\n",
        "print(\"04_pythagorean_theorem\")\n",
        "#BC**2 = AB**2 + AC**2\n",
        "def triangle():\n",
        "  ab:float = float(input(\"Enter the length of the side of ab: \"))\n",
        "  ac:float = float(input(\"Enter the length of the side of ac: \"))\n",
        "  bc:float = math.sqrt(ab ** 2 + ac ** 2)\n",
        "  print(f'The length of bc (the hypotenuse is : + str{bc})')\n",
        "\n",
        "if __name__ == \"__main__\":\n",
        "  triangle()"
      ],
      "metadata": {
        "colab": {
          "base_uri": "https://localhost:8080/"
        },
        "id": "33PxlTAzyLgc",
        "outputId": "ba2cd413-ffd0-4365-c67d-1b069ec28875"
      },
      "execution_count": 2,
      "outputs": [
        {
          "output_type": "stream",
          "name": "stdout",
          "text": [
            "04_pythagorean_theorem\n",
            "Enter the length of the side of ab: 4.0\n",
            "Enter the length of the side of ac: 5.0\n",
            "The length of bc (the hypotenuse is : + str6.4031242374328485)\n"
          ]
        }
      ]
    },
    {
      "cell_type": "code",
      "source": [
        "print(\"05_remainder_division\")\n",
        "\n",
        "def remainer():\n",
        "  num1:int = int(input(\"Enter an integer to be divided: \"))\n",
        "  num2:int = int(input(\"Enter an integer to divide by: \"))\n",
        "  quotient:int = num1 // num2\n",
        "  remainder:int = num1 % num2\n",
        "  print(f'The result of tthis division is {quotient} with a remaainder of {remainder}')\n",
        "\n",
        "if __name__ == \"__main__\":\n",
        "  remainer()"
      ],
      "metadata": {
        "colab": {
          "base_uri": "https://localhost:8080/"
        },
        "id": "xzHk4qvbj3xY",
        "outputId": "f19f9601-f85d-4a08-b037-ab1b77af80ee"
      },
      "execution_count": 5,
      "outputs": [
        {
          "output_type": "stream",
          "name": "stdout",
          "text": [
            "05_remainder_division\n",
            "Enter an integer to be divided: 9\n",
            "Enter an integer to divide by: 2\n",
            "The result of tthis division is 4 with a remaainder of 1\n"
          ]
        }
      ]
    }
  ]
}